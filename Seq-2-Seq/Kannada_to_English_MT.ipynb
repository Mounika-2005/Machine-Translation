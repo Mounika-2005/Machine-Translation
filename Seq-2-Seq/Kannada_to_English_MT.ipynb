{
  "cells": [
    {
      "cell_type": "code",
      "execution_count": null,
      "metadata": {
        "id": "8LFOWF-AjZDV"
      },
      "outputs": [],
      "source": []
    },
    {
      "cell_type": "code",
      "execution_count": null,
      "metadata": {
        "id": "08z5gtHVOnVo"
      },
      "outputs": [],
      "source": [
        "#Importing the required libraries for building the nueral network\n",
        "from __future__ import unicode_literals, print_function, division\n",
        "from io import open\n",
        "import unicodedata\n",
        "import string\n",
        "import re\n",
        "import random\n",
        "import pickle\n",
        "import torch\n",
        "import torch.nn as nn\n",
        "from torch import optim\n",
        "import torch.nn.functional as F\n",
        "\n",
        "device = torch.device(\"cuda\" if torch.cuda.is_available() else \"cpu\")"
      ]
    },
    {
      "cell_type": "code",
      "execution_count": null,
      "metadata": {
        "id": "eCHWBcpx3dW1"
      },
      "outputs": [],
      "source": [
        "#Defining Start and end of the sentense. SOS - start of the sentence and EOS - end of the sentences\n",
        "SOS_token = 0\n",
        "EOS_token = 1\n",
        "\n",
        "#Creating word to index and frequency of each words in a dictionary. As the nueral network accepts input as a vector,\n",
        "#We index every word with a number. Each unique number or vector could represent a word for input and output of text.\n",
        "class Lang:\n",
        "    def __init__(self, name):\n",
        "        self.name = name\n",
        "        self.word2index = {}\n",
        "        self.word2count = {}\n",
        "        self.index2word = {0: \"SOS\", 1: \"EOS\"}\n",
        "        self.n_words = 2  # Count SOS and EOS\n",
        "\n",
        "    def addSentence(self, sentence):\n",
        "        for word in sentence.split(' '):\n",
        "            self.addWord(word)\n",
        "\n",
        "    def addWord(self, word):\n",
        "        if word not in self.word2index:\n",
        "            self.word2index[word] = self.n_words\n",
        "            self.word2count[word] = 1\n",
        "            self.index2word[self.n_words] = word\n",
        "            self.n_words += 1\n",
        "        else:\n",
        "            self.word2count[word] += 1"
      ]
    },
    {
      "cell_type": "code",
      "execution_count": null,
      "metadata": {
        "id": "5i0_wLPa4EnD"
      },
      "outputs": [],
      "source": [
        "# Turn a Unicode string to plain ASCII\n",
        "\n",
        "def unicodeToAscii(s):\n",
        "    return ''.join(\n",
        "        c for c in unicodedata.normalize('NFD', s)\n",
        "        if unicodedata.category(c) != 'Mn'\n",
        "    )\n",
        "\n",
        "# Lowercase, trim, and remove non-letter characters\n",
        "\n",
        "def normalizeString(s):\n",
        "    s = unicodeToAscii(s.lower().strip())\n",
        "    s = re.sub(r\"([.!?])\", r\" \\1\", s)\n",
        "    s = re.sub(r\"[^a-zA-Z.!?]+\", r\" \", s)\n",
        "    return s"
      ]
    },
    {
      "cell_type": "code",
      "execution_count": null,
      "metadata": {
        "id": "_BK1qlfb4Th0",
        "colab": {
          "base_uri": "https://localhost:8080/"
        },
        "outputId": "e7b43d23-557b-4c46-f5f4-214945bd32dd"
      },
      "outputs": [
        {
          "output_type": "stream",
          "name": "stdout",
          "text": [
            "199401\n",
            "129817\n"
          ]
        }
      ],
      "source": [
        "import numpy as np\n",
        "from sklearn.model_selection import train_test_split\n",
        "import pandas as pd\n",
        "data=pd.read_csv('eng-kan-180k.csv')\n",
        "data.head()\n",
        "# # print(len(data['Go']))\n",
        "eng=data['0']\n",
        "print(len(eng))\n",
        "kan=data['1']\n",
        "# temp=[]\n",
        "# temp=eng\n",
        "# eng=kan\n",
        "# kan=temp\n",
        "a=[]\n",
        "b=[]\n",
        "for i,j in zip(eng,kan):\n",
        "  try:\n",
        "    if(len(i.split())>=15 or len(j.split())>=15 ):continue\n",
        "    a.append(i)\n",
        "    b.append(j);\n",
        "  except:\n",
        "    continue\n",
        "eng=a\n",
        "kan=b\n",
        "X_train, X_test, y_train, y_test = train_test_split(eng, kan, test_size=0.3, random_state=42)\n",
        "print(len(X_train))\n",
        "\n",
        "def readLangs(lang1, lang2, reverse=False):\n",
        "    print(\"Reading lines...\")\n",
        "\n",
        "    # Read the file and split into lines, \n",
        "    # the file in uploaded to the sessions cache of google colab, the file address needs to changed\n",
        "    # lines = open('data.txt', encoding='utf-8').\\\n",
        "    #     read().strip().split('\\n')\n",
        "\n",
        "    # Split every line into pairs and normalize\n",
        "    pairs = []\n",
        "    l = []\n",
        "    itr=0\n",
        "    eng=X_train\n",
        "    kan=y_train\n",
        "#     print(eng[8],kan[8])\n",
        "    for p,q in zip(X_train,y_train):\n",
        "      if(len(p.split())>=15 or len(q.split())>=15 ):continue\n",
        "      l.append([p,q])\n",
        "      itr=itr+1\n",
        "    pairs = l\n",
        "#     print(pairs)\n",
        "    print(\"---->\",len(pairs))\n",
        "\n",
        "    # Reverse pairs, make Lang instances\n",
        "    if reverse:\n",
        "        pairs = [list(reversed(p)) for p in pairs]\n",
        "        input_lang = Lang(lang2)\n",
        "        output_lang = Lang(lang1)\n",
        "    else:\n",
        "        input_lang = Lang(lang1)\n",
        "        output_lang = Lang(lang2)\n",
        "    val=pairs\n",
        "    return input_lang, output_lang, pairs\n"
      ]
    },
    {
      "cell_type": "code",
      "execution_count": null,
      "metadata": {
        "id": "LjpryYjS4w6F"
      },
      "outputs": [],
      "source": [
        "#Declaring function to format data into readable formats\n",
        "def prepareData(lang1, lang2, reverse=False):\n",
        "    input_lang, output_lang, pairs = readLangs(lang1,lang2,reverse)\n",
        "    print(\"Read %s sentence pairs\" % len(pairs))\n",
        "    print(\"Trimmed to %s sentence pairs\" % len(pairs))\n",
        "    print(\"Counting words...\")\n",
        "    for pair in pairs:\n",
        "        input_lang.addSentence(pair[0])\n",
        "        output_lang.addSentence(pair[1])\n",
        "    print(\"Counted words:\")\n",
        "    print(input_lang.name, input_lang.n_words)\n",
        "    print(output_lang.name, output_lang.n_words)\n",
        "    return input_lang, output_lang, pairs\n",
        "\n",
        "\n"
      ]
    },
    {
      "cell_type": "code",
      "execution_count": null,
      "metadata": {
        "colab": {
          "base_uri": "https://localhost:8080/"
        },
        "id": "f0QzG5c58ZBQ",
        "outputId": "25a7c527-3eb1-4d64-b490-99b519141571"
      },
      "outputs": [
        {
          "output_type": "stream",
          "name": "stdout",
          "text": [
            "Reading lines...\n",
            "----> 129817\n",
            "Read 129817 sentence pairs\n",
            "Trimmed to 129817 sentence pairs\n",
            "Counting words...\n",
            "Counted words:\n",
            "kan 53788\n",
            "eng 19569\n",
            "['ಆಲಿಸ್\\u200cಗೆ ಹಾಗೆ ಮಾಡುವಂತೆ ಕೇಳಲು ಮೇರಿ ಜಾನ್\\u200cಗೆ ಹೇಳಿದಳು ಎಂದು ಟಾಮ್\\u200cಗೆ ತಿಳಿದಿತ್ತು', 'Tom knew that Mary told John to ask Alice to do that']\n"
          ]
        }
      ],
      "source": [
        "#The following is a sample list, [Kannada, English]\n",
        "\n",
        "input_lang_kan, output_lang_eng, pairs = prepareData('eng','kan',True)\n",
        "print(random.choice(pairs))"
      ]
    },
    {
      "cell_type": "code",
      "execution_count": null,
      "metadata": {
        "id": "is80BpGab9tV"
      },
      "outputs": [],
      "source": [
        "#Defining objects to create our lookup dictionaries for deployment\n",
        "input_lkp = input_lang_kan.word2index\n",
        "output_lkp = output_lang_eng.index2word"
      ]
    },
    {
      "cell_type": "code",
      "execution_count": null,
      "metadata": {
        "id": "cAzYjIDnU_zc",
        "colab": {
          "base_uri": "https://localhost:8080/"
        },
        "outputId": "acc1e9d0-177d-4cac-f8e2-0b2bc2e3686d"
      },
      "outputs": [
        {
          "output_type": "execute_result",
          "data": {
            "text/plain": [
              "19667"
            ]
          },
          "metadata": {},
          "execution_count": 9
        }
      ],
      "source": [
        "len(input_lkp)"
      ]
    },
    {
      "cell_type": "code",
      "execution_count": null,
      "metadata": {
        "colab": {
          "base_uri": "https://localhost:8080/"
        },
        "id": "Nz4k69W81tGP",
        "outputId": "24f68740-b775-4917-b500-4f2434d3ae0a"
      },
      "outputs": [
        {
          "output_type": "stream",
          "name": "stdout",
          "text": [
            "11\n",
            "12\n"
          ]
        }
      ],
      "source": [
        "#Checking maximum length of sentence in the given dataset\n",
        "for i in range(len(pairs)):\n",
        "  a = 0\n",
        "  b = 0\n",
        "  if len(pairs[i][0].split()) > a:\n",
        "    a = max(len(pairs[i][0].split()),a)\n",
        "  if len(pairs[i][1].split())>b:\n",
        "    b = max(len(pairs[i][1].split()),b)\n",
        "print(a)\n",
        "print(b)\n",
        "#Maximum length of the kannada Sentence is 7\n",
        "#maximum length of a english sentence is 14\n",
        "#Hence Declaring Max_length as 15\n",
        "MAX_LENGTH = 15"
      ]
    },
    {
      "cell_type": "code",
      "execution_count": null,
      "metadata": {
        "id": "3L7hxoWh8cE4"
      },
      "outputs": [],
      "source": [
        "#Defining the class for the Encoder, the construct of layers and the RNN for encoding a given input sentence\n",
        "class EncoderRNN(nn.Module):\n",
        "    def __init__(self, input_size, hidden_size):\n",
        "        super(EncoderRNN, self).__init__()\n",
        "        self.hidden_size = hidden_size\n",
        "        \n",
        "        self.embedding = nn.Embedding(input_size, hidden_size)\n",
        "        self.gru = nn.GRU(hidden_size, hidden_size)\n",
        "\n",
        "    def forward(self, input, hidden):\n",
        "        embedded = self.embedding(input).view(1, 1, -1)\n",
        "        output = embedded\n",
        "        output, hidden = self.gru(output, hidden)\n",
        "        return output, hidden\n",
        "\n",
        "    def initHidden(self):\n",
        "        return torch.zeros(1, 1, self.hidden_size, device=device)"
      ]
    },
    {
      "cell_type": "code",
      "execution_count": null,
      "metadata": {
        "id": "cs8BubNCF8ak"
      },
      "outputs": [],
      "source": [
        "#Decoder have the layers of nueral network and RNN as defined below, this class would work along with attention mechanism\n",
        "class DecoderRNN(nn.Module):\n",
        "    def __init__(self, hidden_size, output_size):\n",
        "        super(DecoderRNN, self).__init__()\n",
        "        self.hidden_size = hidden_size\n",
        "\n",
        "        self.embedding = nn.Embedding(output_size, hidden_size)\n",
        "        self.gru = nn.GRU(hidden_size, hidden_size)\n",
        "        self.out = nn.Linear(hidden_size, output_size)\n",
        "        self.softmax = nn.LogSoftmax(dim=1)\n",
        "\n",
        "    def forward(self, input, hidden):\n",
        "        output = self.embedding(input).view(1, 1, -1)\n",
        "        output = F.relu(output)\n",
        "        output, hidden = self.gru(output, hidden)\n",
        "        output = self.softmax(self.out(output[0]))\n",
        "        return output, hidden\n",
        "\n",
        "    def initHidden(self):\n",
        "        return torch.zeros(1, 1, self.hidden_size, device=device)"
      ]
    },
    {
      "cell_type": "code",
      "execution_count": null,
      "metadata": {
        "id": "-qWMpy7NGR6x"
      },
      "outputs": [],
      "source": [
        "#This class would use attention weights to each hidden state of encoder and build the context vector that would go in decoding the words in a sequence.\n",
        "class AttnDecoderRNN(nn.Module):\n",
        "    def __init__(self, hidden_size, output_size, dropout_p=0.1, max_length=MAX_LENGTH):\n",
        "        super(AttnDecoderRNN, self).__init__()\n",
        "        self.hidden_size = hidden_size\n",
        "        self.output_size = output_size\n",
        "        self.dropout_p = dropout_p\n",
        "        self.max_length = max_length\n",
        "\n",
        "        self.embedding = nn.Embedding(self.output_size, self.hidden_size)\n",
        "        self.attn = nn.Linear(self.hidden_size * 2, self.max_length)\n",
        "        self.attn_combine = nn.Linear(self.hidden_size * 2, self.hidden_size)\n",
        "        self.dropout = nn.Dropout(self.dropout_p)\n",
        "        self.gru = nn.GRU(self.hidden_size, self.hidden_size)\n",
        "        self.out = nn.Linear(self.hidden_size, self.output_size)\n",
        "\n",
        "    def forward(self, input, hidden, encoder_outputs):\n",
        "        embedded = self.embedding(input).view(1, 1, -1)\n",
        "        embedded = self.dropout(embedded)\n",
        "\n",
        "        attn_weights = F.softmax(\n",
        "            self.attn(torch.cat((embedded[0], hidden[0]), 1)), dim=1)\n",
        "        attn_applied = torch.bmm(attn_weights.unsqueeze(0),\n",
        "                                 encoder_outputs.unsqueeze(0))\n",
        "\n",
        "        output = torch.cat((embedded[0], attn_applied[0]), 1)\n",
        "        output = self.attn_combine(output).unsqueeze(0)\n",
        "\n",
        "        output = F.relu(output)\n",
        "        output, hidden = self.gru(output, hidden)\n",
        "\n",
        "        output = F.log_softmax(self.out(output[0]), dim=1)\n",
        "        return output, hidden, attn_weights\n",
        "\n",
        "    def initHidden(self):\n",
        "        return torch.zeros(1, 1, self.hidden_size, device=device)"
      ]
    },
    {
      "cell_type": "code",
      "execution_count": null,
      "metadata": {
        "id": "eFDrEUazHQFT"
      },
      "outputs": [],
      "source": [
        "# We define the below functions to generate tensors from the text using the indexes assigned to each word. These tensors are used to feed the network\n",
        "def indexesFromSentence(lang, sentence):\n",
        "    l=[]\n",
        "    for word in sentence.split(' '):\n",
        "        ids=lang.word2index[word]\n",
        "        l.append(ids)\n",
        "        \n",
        "            \n",
        "    return l\n",
        "\n",
        "\n",
        "def tensorFromSentence(lang, sentence):\n",
        "    indexes = indexesFromSentence(lang, sentence)\n",
        "    indexes.append(EOS_token)\n",
        "    return torch.tensor(indexes, dtype=torch.long, device=device).view(-1, 1)\n",
        "\n",
        "\n",
        "def tensorsFromPair(pair):\n",
        "    input_tensor = tensorFromSentence(input_lang_kan, pair[0])\n",
        "    target_tensor = tensorFromSentence(output_lang_eng, pair[1])\n",
        "    return (input_tensor, target_tensor)"
      ]
    },
    {
      "cell_type": "code",
      "execution_count": null,
      "metadata": {
        "id": "JAxHvxAaHrVq"
      },
      "outputs": [],
      "source": [
        "teacher_forcing_ratio = 0.5\n",
        "# We define the training function below\n",
        "def train(input_tensor, target_tensor, encoder, decoder, encoder_optimizer, decoder_optimizer, criterion, max_length=MAX_LENGTH):\n",
        "    encoder_hidden = encoder.initHidden()\n",
        "\n",
        "    encoder_optimizer.zero_grad()\n",
        "    decoder_optimizer.zero_grad()\n",
        "\n",
        "    input_length = input_tensor.size(0)\n",
        "    target_length = target_tensor.size(0)\n",
        "\n",
        "    encoder_outputs = torch.zeros(max_length, encoder.hidden_size, device=device)\n",
        "\n",
        "    loss = 0\n",
        "\n",
        "    for ei in range(input_length):\n",
        "        encoder_output, encoder_hidden = encoder(\n",
        "            input_tensor[ei], encoder_hidden)\n",
        "        encoder_outputs[ei] = encoder_output[0, 0]\n",
        "\n",
        "    decoder_input = torch.tensor([[SOS_token]], device=device)\n",
        "\n",
        "    decoder_hidden = encoder_hidden\n",
        "\n",
        "    use_teacher_forcing = True if random.random() < teacher_forcing_ratio else False\n",
        "\n",
        "    if use_teacher_forcing:\n",
        "        # Teacher forcing: Feed the target as the next input\n",
        "        for di in range(target_length):\n",
        "            decoder_output, decoder_hidden, decoder_attention = decoder(\n",
        "                decoder_input, decoder_hidden, encoder_outputs)\n",
        "            loss += criterion(decoder_output, target_tensor[di])\n",
        "            decoder_input = target_tensor[di]  # Teacher forcing\n",
        "\n",
        "    else:\n",
        "        # Without teacher forcing: use its own predictions as the next input\n",
        "        for di in range(target_length):\n",
        "            decoder_output, decoder_hidden, decoder_attention = decoder(\n",
        "                decoder_input, decoder_hidden, encoder_outputs)\n",
        "            topv, topi = decoder_output.topk(1)\n",
        "            decoder_input = topi.squeeze().detach()  # detach from history as input\n",
        "\n",
        "            loss += criterion(decoder_output, target_tensor[di])\n",
        "            if decoder_input.item() == EOS_token:\n",
        "                break\n",
        "\n",
        "    loss.backward()\n",
        "\n",
        "    encoder_optimizer.step()\n",
        "    decoder_optimizer.step()\n",
        "\n",
        "    return loss.item() / target_length"
      ]
    },
    {
      "cell_type": "code",
      "execution_count": null,
      "metadata": {
        "id": "aULnERgLHx92"
      },
      "outputs": [],
      "source": [
        "import time\n",
        "import math\n",
        "\n",
        "\n",
        "def asMinutes(s):\n",
        "    m = math.floor(s / 60)\n",
        "    s -= m * 60\n",
        "    return '%dm %ds' % (m, s)\n",
        "\n",
        "\n",
        "def timeSince(since, percent):\n",
        "    now = time.time()\n",
        "    s = now - since\n",
        "    es = s / (percent)\n",
        "    rs = es - s\n",
        "    return '%s (- %s)' % (asMinutes(s), asMinutes(rs))"
      ]
    },
    {
      "cell_type": "code",
      "execution_count": null,
      "metadata": {
        "id": "47DbrWYAH3K9"
      },
      "outputs": [],
      "source": [
        "def trainIters(encoder, decoder, n_iters, print_every=1000, plot_every=100, learning_rate=0.01):\n",
        "    start = time.time()\n",
        "    plot_losses = []\n",
        "    print_loss_total = 0  # Reset every print_every\n",
        "    plot_loss_total = 0  # Reset every plot_every\n",
        "\n",
        "    encoder_optimizer = optim.SGD(encoder.parameters(), lr=learning_rate)\n",
        "    decoder_optimizer = optim.SGD(decoder.parameters(), lr=learning_rate)\n",
        "    training_pairs = [tensorsFromPair(random.choice(pairs))\n",
        "                      for i in range(n_iters)]\n",
        "    criterion = nn.NLLLoss()\n",
        "\n",
        "    for iter in range(1, n_iters + 1):\n",
        "        training_pair = training_pairs[iter - 1]\n",
        "        input_tensor = training_pair[0]\n",
        "        target_tensor = training_pair[1]\n",
        "\n",
        "        loss = train(input_tensor, target_tensor, encoder,\n",
        "                     decoder, encoder_optimizer, decoder_optimizer, criterion)\n",
        "        print_loss_total += loss\n",
        "        plot_loss_total += loss\n",
        "\n",
        "        if iter % print_every == 0:\n",
        "            print_loss_avg = print_loss_total / print_every\n",
        "            print_loss_total = 0\n",
        "            print('%s (%d %d%%) %.4f' % (timeSince(start, iter / n_iters),\n",
        "                                         iter, iter / n_iters * 100, print_loss_avg))\n",
        "\n",
        "        if iter % plot_every == 0:\n",
        "            plot_loss_avg = plot_loss_total / plot_every\n",
        "            plot_losses.append(plot_loss_avg)\n",
        "            plot_loss_total = 0\n",
        "\n",
        "    showPlot(plot_losses)"
      ]
    },
    {
      "cell_type": "code",
      "execution_count": null,
      "metadata": {
        "id": "29mMXY4rH7Mf"
      },
      "outputs": [],
      "source": [
        "import matplotlib.pyplot as plt\n",
        "plt.switch_backend('agg')\n",
        "import matplotlib.ticker as ticker\n",
        "import numpy as np\n",
        "\n",
        "\n",
        "def showPlot(points):\n",
        "    \n",
        "    plt.figure()\n",
        "    fig, ax = plt.subplots()\n",
        "    # this locator puts ticks at regular intervals\n",
        "    loc = ticker.MultipleLocator(base=0.2)\n",
        "    ax.yaxis.set_major_locator(loc)\n",
        "    plt.plot(points)"
      ]
    },
    {
      "cell_type": "code",
      "execution_count": null,
      "metadata": {
        "id": "IIrjeFrhH7P1"
      },
      "outputs": [],
      "source": [
        "def evaluate_eng(encoder, decoder, sentence, max_length=MAX_LENGTH):\n",
        "    with torch.no_grad():\n",
        "        input_tensor = tensorFromSentence(input_lang_kan, sentence)\n",
        "        input_length = input_tensor.size()[0]\n",
        "        encoder_hidden = encoder.initHidden()\n",
        "\n",
        "        encoder_outputs = torch.zeros(max_length, encoder.hidden_size, device=device)\n",
        "\n",
        "        for ei in range(input_length):\n",
        "            encoder_output, encoder_hidden = encoder(input_tensor[ei],\n",
        "                                                     encoder_hidden)\n",
        "            encoder_outputs[ei] += encoder_output[0, 0]\n",
        "\n",
        "        decoder_input = torch.tensor([[SOS_token]], device=device)  # SOS\n",
        "\n",
        "        decoder_hidden = encoder_hidden\n",
        "\n",
        "        decoded_words = []\n",
        "        decoder_attentions = torch.zeros(max_length, max_length)\n",
        "\n",
        "        for di in range(max_length):\n",
        "            decoder_output, decoder_hidden, decoder_attention = decoder(\n",
        "                decoder_input, decoder_hidden, encoder_outputs)\n",
        "            decoder_attentions[di] = decoder_attention.data\n",
        "            topv, topi = decoder_output.data.topk(1)\n",
        "            if topi.item() == EOS_token:\n",
        "                decoded_words.append('<EOS>')\n",
        "                break\n",
        "            else:\n",
        "                decoded_words.append(output_lang_eng.index2word[topi.item()])\n",
        "\n",
        "            decoder_input = topi.squeeze().detach()\n",
        "            sen = ' '.join(decoded_words)\n",
        "\n",
        "        return sen"
      ]
    },
    {
      "cell_type": "code",
      "execution_count": null,
      "metadata": {
        "colab": {
          "base_uri": "https://localhost:8080/"
        },
        "id": "_vNoEVdOIGuO",
        "outputId": "160da586-ef62-42af-dc26-bdfec0102aa1"
      },
      "outputs": [
        {
          "output_type": "stream",
          "name": "stdout",
          "text": [
            "1m 3s (- 25m 25s) (2000 4%) 5.8486\n",
            "2m 5s (- 24m 0s) (4000 8%) 5.9451\n",
            "3m 8s (- 23m 3s) (6000 12%) 5.9950\n",
            "4m 11s (- 22m 1s) (8000 16%) 5.8802\n",
            "5m 14s (- 20m 56s) (10000 20%) 5.7476\n",
            "6m 17s (- 19m 53s) (12000 24%) 5.7767\n",
            "7m 20s (- 18m 53s) (14000 28%) 5.6966\n",
            "8m 24s (- 17m 51s) (16000 32%) 5.5995\n",
            "9m 27s (- 16m 48s) (18000 36%) 5.6163\n",
            "10m 30s (- 15m 46s) (20000 40%) 5.5256\n",
            "11m 34s (- 14m 44s) (22000 44%) 5.5551\n",
            "12m 38s (- 13m 42s) (24000 48%) 5.4959\n",
            "13m 43s (- 12m 39s) (26000 52%) 5.3873\n",
            "14m 47s (- 11m 37s) (28000 56%) 5.3723\n",
            "15m 51s (- 10m 34s) (30000 60%) 5.3372\n",
            "16m 56s (- 9m 31s) (32000 64%) 5.3540\n",
            "17m 59s (- 8m 28s) (34000 68%) 5.2319\n",
            "19m 4s (- 7m 24s) (36000 72%) 5.2624\n",
            "20m 7s (- 6m 21s) (38000 76%) 5.1453\n",
            "21m 11s (- 5m 17s) (40000 80%) 5.1003\n",
            "22m 16s (- 4m 14s) (42000 84%) 5.2002\n",
            "23m 19s (- 3m 10s) (44000 88%) 5.0822\n",
            "24m 23s (- 2m 7s) (46000 92%) 5.0272\n",
            "25m 27s (- 1m 3s) (48000 96%) 5.0578\n",
            "26m 31s (- 0m 0s) (50000 100%) 5.0081\n"
          ]
        }
      ],
      "source": [
        "#Training the model\n",
        "hidden_size = 100\n",
        "encoder_eng = EncoderRNN(input_lang_kan.n_words, hidden_size).to(device)\n",
        "attn_decoder_eng = AttnDecoderRNN(hidden_size, output_lang_eng.n_words,dropout_p=0.1).to(device)\n",
        "\n",
        "trainIters(encoder_eng, attn_decoder_eng,50000, print_every=2000)"
      ]
    },
    {
      "cell_type": "code",
      "execution_count": null,
      "metadata": {
        "colab": {
          "base_uri": "https://localhost:8080/"
        },
        "id": "AgxigqrIbR_3",
        "outputId": "ebadfa28-30d5-445a-99f2-0e52d69eed3c"
      },
      "outputs": [
        {
          "output_type": "stream",
          "name": "stdout",
          "text": [
            "complete\n"
          ]
        }
      ],
      "source": [
        "\n",
        "print(\"complete\")"
      ]
    },
    {
      "cell_type": "code",
      "execution_count": null,
      "metadata": {
        "colab": {
          "base_uri": "https://localhost:8080/",
          "height": 35
        },
        "id": "Chx3R3xm-ny_",
        "outputId": "a04a1225-8bff-4873-ef9d-9056235b1565"
      },
      "outputs": [
        {
          "output_type": "execute_result",
          "data": {
            "text/plain": [
              "\"I'm not very\""
            ],
            "application/vnd.google.colaboratory.intrinsic+json": {
              "type": "string"
            }
          },
          "metadata": {},
          "execution_count": 41
        }
      ],
      "source": [
        "#Evaluation for comparing the result\n",
        "evaluate_eng(encoder_eng, attn_decoder_eng,\"ನಾನು ತುಂಬಾ ಪ್ರಭಾವಿತನಾಗಿದ್ದೇನೆ\")"
      ]
    },
    {
      "cell_type": "code",
      "execution_count": null,
      "metadata": {
        "colab": {
          "base_uri": "https://localhost:8080/"
        },
        "id": "if-ttC72ow5e",
        "outputId": "102a0f51-af90-4d60-8475-e06ae8435d42"
      },
      "outputs": [
        {
          "output_type": "stream",
          "name": "stdout",
          "text": [
            "3227\n"
          ]
        },
        {
          "output_type": "stream",
          "name": "stderr",
          "text": [
            "/usr/local/lib/python3.7/dist-packages/nltk/translate/bleu_score.py:490: UserWarning: \n",
            "Corpus/Sentence contains 0 counts of 2-gram overlaps.\n",
            "BLEU scores might be undesirable; use SmoothingFunction().\n",
            "  warnings.warn(_msg)\n",
            "/usr/local/lib/python3.7/dist-packages/nltk/translate/bleu_score.py:490: UserWarning: \n",
            "Corpus/Sentence contains 0 counts of 3-gram overlaps.\n",
            "BLEU scores might be undesirable; use SmoothingFunction().\n",
            "  warnings.warn(_msg)\n",
            "/usr/local/lib/python3.7/dist-packages/nltk/translate/bleu_score.py:490: UserWarning: \n",
            "Corpus/Sentence contains 0 counts of 4-gram overlaps.\n",
            "BLEU scores might be undesirable; use SmoothingFunction().\n",
            "  warnings.warn(_msg)\n"
          ]
        },
        {
          "output_type": "stream",
          "name": "stdout",
          "text": [
            "0.37650987526370866 1.0 0 7529 0\n"
          ]
        }
      ],
      "source": [
        "from nltk.translate.bleu_score import sentence_bleu\n",
        "\n",
        "ans=0\n",
        "val=0\n",
        "ok=0\n",
        "done=0\n",
        "print(len(X_test))\n",
        "itr=0\n",
        "for i,j in zip(X_train,y_train):\n",
        "#     print(i,j)\n",
        "    itr=itr+1\n",
        "    # if(itr==10):break\n",
        "    if(len(i.split())>15 or len(j.split())>15 ):continue\n",
        "    reference = []\n",
        "    maxa=0\n",
        "    # print(i)\n",
        "    reference.append(normalizeString(i).split())\n",
        "    try:\n",
        "        candidate = evaluate_eng(encoder_eng, attn_decoder_eng,j)\n",
        "        \n",
        "    except:\n",
        "        # print(ans,\"-->\",ok)\n",
        "        continue\n",
        "    # print(reference,normalizeString(candidate).split(),sentence_bleu(reference, normalizeString(candidate).split() ))\n",
        "    val=val+sentence_bleu(reference, normalizeString(candidate).split() )\n",
        "    done=done+1\n",
        "    ok=max(ok,sentence_bleu(reference, normalizeString(candidate).split() ))\n",
        "    # print(sentence_bleu(reference, normalizeString(candidate).split() ))\n",
        "    #     if(ans==2000):break\n",
        "    \n",
        "    \n",
        "print(val/done,ok,ans,done,maxa)\n",
        "#pm-india\n",
        "#test-> 0.3774(520)\n",
        "#train-> 0.37(7529)\n",
        "\n",
        "#180k dataset\n",
        "#train---> 0.41(129817)\n",
        "#test---->0.41(45058)"
      ]
    }
  ],
  "metadata": {
    "accelerator": "GPU",
    "colab": {
      "collapsed_sections": [],
      "provenance": []
    },
    "kernelspec": {
      "display_name": "Python 3 (ipykernel)",
      "language": "python",
      "name": "python3"
    },
    "language_info": {
      "codemirror_mode": {
        "name": "ipython",
        "version": 3
      },
      "file_extension": ".py",
      "mimetype": "text/x-python",
      "name": "python",
      "nbconvert_exporter": "python",
      "pygments_lexer": "ipython3",
      "version": "3.9.4"
    }
  },
  "nbformat": 4,
  "nbformat_minor": 0
}